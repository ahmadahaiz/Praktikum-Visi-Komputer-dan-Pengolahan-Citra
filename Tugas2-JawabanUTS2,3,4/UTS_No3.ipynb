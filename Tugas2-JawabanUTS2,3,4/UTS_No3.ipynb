{
 "cells": [
  {
   "cell_type": "markdown",
   "metadata": {},
   "source": [
    "VISI KOMPUTER DAN PENGOLAHAN CITRA"
   ]
  },
  {
   "cell_type": "markdown",
   "metadata": {},
   "source": [
    "UTS NO.3 KONVOLUSI GAMBAR"
   ]
  },
  {
   "cell_type": "code",
   "execution_count": 1,
   "metadata": {},
   "outputs": [
    {
     "name": "stdout",
     "output_type": "stream",
     "text": [
      "Input Gambar X:\n",
      " [[1 0 0 0]\n",
      " [1 1 1 0]\n",
      " [1 1 1 0]\n",
      " [1 0 0 0]]\n",
      "Input Kernel H:\n",
      " [[1 1 1]\n",
      " [1 4 1]\n",
      " [1 1 1]]\n",
      "Hasil Konvolusi Y(2, 3): 7\n"
     ]
    }
   ],
   "source": [
    "import numpy as np\n",
    "\n",
    "# Example image and kernel\n",
    "imageX = np.array([[1, 0, 0, 0],\n",
    "                  [1, 1, 1, 0],\n",
    "                  [1, 1, 1, 0],\n",
    "                  [1, 0, 0, 0]])\n",
    "print(\"Input Gambar X:\\n\",imageX)\n",
    "kernelH = np.array([[1, 1, 1],\n",
    "                   [1, 4, 1],\n",
    "                   [1, 1, 1]])\n",
    "print(\"Input Kernel H:\\n\",kernelH)\n",
    "\n",
    "# Coordinates for the point (2, 3)\n",
    "i, j = 2, 3\n",
    "\n",
    "# Calculate convolution at (2, 3)\n",
    "convolution_result = np.sum(np.sum(kernelH * imageX[i-2:i+1, j-2:j+1]))\n",
    "\n",
    "print(f\"Hasil Konvolusi Y({i}, {j}): {convolution_result}\")"
   ]
  }
 ],
 "metadata": {
  "kernelspec": {
   "display_name": "Python 3",
   "language": "python",
   "name": "python3"
  },
  "language_info": {
   "codemirror_mode": {
    "name": "ipython",
    "version": 3
   },
   "file_extension": ".py",
   "mimetype": "text/x-python",
   "name": "python",
   "nbconvert_exporter": "python",
   "pygments_lexer": "ipython3",
   "version": "3.10.7"
  }
 },
 "nbformat": 4,
 "nbformat_minor": 2
}
